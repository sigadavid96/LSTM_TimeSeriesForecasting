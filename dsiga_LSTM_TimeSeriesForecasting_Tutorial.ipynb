{
  "nbformat": 4,
  "nbformat_minor": 0,
  "metadata": {
    "colab": {
      "name": "dsiga_LSTM_TimeSeriesForecasting_Tutorial.ipynb",
      "provenance": [],
      "collapsed_sections": []
    },
    "kernelspec": {
      "name": "python3",
      "display_name": "Python 3"
    },
    "language_info": {
      "name": "python"
    }
  },
  "cells": [
    {
      "cell_type": "markdown",
      "source": [
        "Author : Davidson Siga (Grad at CMU)\n",
        "\n",
        "CMU ID : dsiga\n"
      ],
      "metadata": {
        "id": "jHfV4MrPvEEf"
      }
    },
    {
      "cell_type": "markdown",
      "source": [
        "# Introduction & Motivation\n",
        "\n",
        "Have you ever wondered how Stock Market Traders use historical time series stock data to make profits?\n",
        "\n",
        "Time Series Forecasting is one of the most prominent prediction approach taken towards making investment decisions in the Stock Market Trading by independent traders or the Big Financial Institutions.\n",
        "\n",
        "[Google AI's Research](https://ai.googleblog.com/2021/12/interpretable-deep-learning-for-time.html#:~:text=Deep%20neural%20networks%20(DNNs)%20have,over%20traditional%20time%20series%20models.) tells us that Deep Neural Networks have started taking over the Traditional Time Series Forecasting Methods.\n",
        "\n",
        "This tutorial will introduce you to Long short-term memory, one of the prominent deep learning methods used for Time Series Forecasting.\n",
        "\n",
        "ARIMA, a prominent Traditional Time Series Forecasting method with great results in the past.\n",
        "[IEEE Research](https://par.nsf.gov/servlets/purl/10186768) shows that \n",
        "LSTM significantly beats ARIMA on Financial Data and more.\n",
        "\n",
        "This Tutorial will help you code and experimentally analyze,model, and evaluate how well LSTM could perform on real world time series data from \n",
        "[Yahoo Finance's Apple Stock Data](https://finance.yahoo.com/quote/AAPL?p=AAPL).\n",
        "\n"
      ],
      "metadata": {
        "id": "KRByIHMNdGD2"
      }
    },
    {
      "cell_type": "markdown",
      "source": [
        "## Assumptions and Scope of this Tutorial\n",
        "---\n",
        "This tutorial assumes that you breifly understand Pytorch and how to use it.\n",
        "\n",
        "The Focus is on teaching the audience about understanding the coding/implementing LSTM for Time Series Forecasting and help of Pytorch."
      ],
      "metadata": {
        "id": "LWzlM64sRqV3"
      }
    },
    {
      "cell_type": "markdown",
      "source": [
        "## Helpful Theory for this Tutorial!\n",
        "\n",
        "  We shall look into two key concepts:\n",
        "  1. Time Series Forecasting\n",
        "  2. Long Short Term Memory Networks"
      ],
      "metadata": {
        "id": "5rV20JqSEjLI"
      }
    },
    {
      "cell_type": "markdown",
      "source": [
        "#### What is Time Series Forecasting?\n",
        "My apple tree had 1 apple yesterday.\n",
        "My apple tree has 2 apples today.\n",
        "I'm expecting it to have 3 apples tomorrow.\n",
        "\n",
        "What have we done here? \n",
        "We analysed the counts of apples on the apple tree and made a forecast for the third day.\n",
        "In short, that is time series forecasting.\n",
        "\n",
        "The key idea here is to forecast values by looking at historical data in TIME through well-planned mathematical algorithms/models. The model here should be able to \"FIT\"/ Learn the information it has seen and make a sensible prediction/FORECAST for the future.\n",
        "\n",
        "The selection of the \"Models\" should come through an evidence-based comparison of forecasting evaluation metrics. We shall dwell on these towards the end of the tutorial."
      ],
      "metadata": {
        "id": "JlwUN1icE-2p"
      }
    },
    {
      "cell_type": "markdown",
      "source": [
        "#### What is LSTM?\n",
        "In short, to know LSTM,\n",
        "we would need to dwell into \n",
        "  1. [Deep Learning](https://deeplearning.cs.cmu.edu/S22/index.html) Courtesy: CMU\n",
        "  2. [Recurrent Neural Networks](https://deeplearning.cs.cmu.edu/S22/document/slides/lec14.recurrent.pdf) Courtesy: CMU\n",
        "  3. Finally, the [LSTM Algorithm](https://arxiv.org/abs/1909.09586) \n",
        "\n",
        "These areas are vast and the scope of the tutorial is to help you implement LSTM and not teach through all the above.\n",
        "\n",
        "Hence, We will Focus on the Last segment, i.e. the LSTM Algorithm."
      ],
      "metadata": {
        "id": "XzLfX7DuHCcr"
      }
    },
    {
      "cell_type": "markdown",
      "source": [
        "#### Now, What is LSTM?\n",
        "\n",
        "LSTM is an improved RNN architecture in the realm of Deep Learning. A regular Neural Network would not be processing data sequentially. It would learn, forget and relearn.\n",
        "\n",
        "However, an RNN takes this further by learning the data in sequence by remembering past information.\n",
        "\n",
        "A vital issue with RNN is that it tends to forget the past too quickly; this is called the vanishing gradient problem.\n",
        "Hence, LSTM was introduced to help remember the past relevant information better.\n",
        "\n",
        "LSTMs have been used for many successful use cases across business domains and data formats. Ranging from Simple Numerical to Complex Video Image Data.\n",
        " \n"
      ],
      "metadata": {
        "id": "5KkcoKLhskEl"
      }
    },
    {
      "cell_type": "markdown",
      "source": [
        "# Tutorial content\n",
        "\n",
        "In this tutorial, we will show how to do Time Series Forecasting with a Deep Learning Method : LSTM in Python, specifically using [PyTorch](https://pytorch.org/docs/stable/index.html), [scikit-learn](https://scikit-learn.org/stable/), and [matplotlib](https://matplotlib.org/).\n",
        "\n",
        "As mentioned earlier, we will look into Yahoo Finance Open Source Dataset. For this Tutorial we can use the last 5 Years infromation of [Apple's](https://www.apple.com/) Daily Closeing stock prices.\n",
        "\n",
        "\n",
        "This tutorial has the following content:\n",
        "\n",
        "-[Imports and Installs](#cell-id1)\n",
        "\n",
        "-[Data Loading and Data Checks](#cell-id2)\n",
        "\n",
        "-[Data Analysis](#cell-id3)\n",
        "\n",
        "-[Data Processing and Loading](#cell-id4)\n",
        "\n",
        "-[Feature Engineering](#cell-id5)\n",
        "\n",
        "-[LSTM Architecture](#cell-id6)\n",
        "\n",
        "-[Time Series Modelling with LSTM](#cell-id7)\n",
        "\n",
        "-[Validating the LSTM](#cell-id8)\n",
        "\n",
        "-[Evaluating the LSTM](#cell-id9)\n",
        "\n",
        "-[Conclusion](#cell-id10)"
      ],
      "metadata": {
        "id": "7BB8hzu5re6v"
      }
    },
    {
      "cell_type": "markdown",
      "source": [
        "<a name=\"cell-id1\"></a>\n",
        "# Imports and Installs"
      ],
      "metadata": {
        "id": "yjJsKfUZdqpR"
      }
    },
    {
      "cell_type": "markdown",
      "source": [
        "All the below libraries would be useful in executing the below.\n",
        "\n",
        "This Tutorial Considers Google Colab Base packages as the starting point for importing packages.\n",
        "\n",
        "None of the below libraries are missing in Google Colab's startup environment."
      ],
      "metadata": {
        "id": "t2e9horGMMj1"
      }
    },
    {
      "cell_type": "code",
      "source": [
        "# However, if anything is not loading you can load it through:\n",
        "# !pip install <library>\n",
        "\n",
        "import numpy as np\n",
        "import matplotlib.pyplot as plt\n",
        "import pandas as pd\n",
        "import torch\n",
        "import torch.nn as nn\n",
        "from torch.autograd import Variable\n",
        "from sklearn.preprocessing import MinMaxScaler\n",
        "import datetime"
      ],
      "metadata": {
        "id": "FQrlrQCmey0W"
      },
      "execution_count": null,
      "outputs": []
    },
    {
      "cell_type": "markdown",
      "source": [
        "## Why did we import these libraries?\n",
        "\n",
        "\n",
        "---\n",
        "\n",
        "\n",
        "Numpy, useful for pytorch operations\n",
        "\n",
        "Matplotlib, useful for plotting outputs\n",
        "\n",
        "Pandas, useful for storing,accessing and transforming data\n",
        "\n",
        "Torch, deep learning framework consists of tools to utilize LSTM\n",
        "\n",
        "Sklearn, Machine Learning & Statistics library consists of ML,Stats and Data Processing functions\n",
        "\n",
        "Datetime, helps handle date datatypes"
      ],
      "metadata": {
        "id": "9bORtRGZMq34"
      }
    },
    {
      "cell_type": "code",
      "source": [
        "# You can Run git clone from the command line within colab notebook environment\n",
        "# Google Colab : https://colab.research.google.com/\n",
        "# The below dataset can be obtained from yahoo finance\n",
        "# But for ease, I have made it available on my GitHub Repositry\n",
        "\n",
        "!git clone https://github.com/sigadavid96/LSTM_TimeSeriesForecasting"
      ],
      "metadata": {
        "colab": {
          "base_uri": "https://localhost:8080/"
        },
        "id": "0-hZJhdge3K0",
        "outputId": "590b069d-d46b-40f1-bf3d-e9da52998446"
      },
      "execution_count": null,
      "outputs": [
        {
          "output_type": "stream",
          "name": "stdout",
          "text": [
            "fatal: destination path 'LSTM_TimeSeriesForecasting' already exists and is not an empty directory.\n"
          ]
        }
      ]
    },
    {
      "cell_type": "markdown",
      "source": [
        "The data has now been loaded into your local/colab environment"
      ],
      "metadata": {
        "id": "muG8-fFHN5yc"
      }
    },
    {
      "cell_type": "markdown",
      "source": [
        "<a name=\"cell-id2\"></a>\n",
        "# Data Load and Data Checks"
      ],
      "metadata": {
        "id": "6ZQkdrIvdrhF"
      }
    },
    {
      "cell_type": "markdown",
      "source": [
        "We now load and store the .csv into a pandas dataframe.\n",
        "Path of the .csv file needs to be changed if you're not working on Colab."
      ],
      "metadata": {
        "id": "vDwBSdo88X-t"
      }
    },
    {
      "cell_type": "code",
      "source": [
        "# Storing the data into pandas dataframe\n",
        "\n",
        "# Path of the .csv file\n",
        "df_path = '/content/LSTM_TimeSeriesForecasting/AAPL.csv'\n",
        "\n",
        "# Store the .csv data into the pandas dataframe\n",
        "df=pd.read_csv(df_path)\n",
        "df.head()"
      ],
      "metadata": {
        "colab": {
          "base_uri": "https://localhost:8080/",
          "height": 206
        },
        "id": "_jfx0eMXfYrz",
        "outputId": "cb19ca70-b8fa-438d-e681-b1970a32e60d"
      },
      "execution_count": null,
      "outputs": [
        {
          "output_type": "execute_result",
          "data": {
            "text/plain": [
              "         Date       Open       High        Low      Close  Adj Close  \\\n",
              "0  2017-04-06  36.072498  36.130001  35.862499  35.915001  33.909504   \n",
              "1  2017-04-07  35.932499  36.044998  35.817501  35.834999  33.833965   \n",
              "2  2017-04-10  35.900002  35.970001  35.724998  35.792500  33.793854   \n",
              "3  2017-04-11  35.735001  35.837502  35.014999  35.407501  33.430347   \n",
              "4  2017-04-12  35.400002  35.537498  35.252499  35.450001  33.470470   \n",
              "\n",
              "      Volume  \n",
              "0   84596000  \n",
              "1   66688800  \n",
              "2   75733600  \n",
              "3  121517600  \n",
              "4   81400000  "
            ],
            "text/html": [
              "\n",
              "  <div id=\"df-32853041-f3af-46a4-a71f-4f4cad140109\">\n",
              "    <div class=\"colab-df-container\">\n",
              "      <div>\n",
              "<style scoped>\n",
              "    .dataframe tbody tr th:only-of-type {\n",
              "        vertical-align: middle;\n",
              "    }\n",
              "\n",
              "    .dataframe tbody tr th {\n",
              "        vertical-align: top;\n",
              "    }\n",
              "\n",
              "    .dataframe thead th {\n",
              "        text-align: right;\n",
              "    }\n",
              "</style>\n",
              "<table border=\"1\" class=\"dataframe\">\n",
              "  <thead>\n",
              "    <tr style=\"text-align: right;\">\n",
              "      <th></th>\n",
              "      <th>Date</th>\n",
              "      <th>Open</th>\n",
              "      <th>High</th>\n",
              "      <th>Low</th>\n",
              "      <th>Close</th>\n",
              "      <th>Adj Close</th>\n",
              "      <th>Volume</th>\n",
              "    </tr>\n",
              "  </thead>\n",
              "  <tbody>\n",
              "    <tr>\n",
              "      <th>0</th>\n",
              "      <td>2017-04-06</td>\n",
              "      <td>36.072498</td>\n",
              "      <td>36.130001</td>\n",
              "      <td>35.862499</td>\n",
              "      <td>35.915001</td>\n",
              "      <td>33.909504</td>\n",
              "      <td>84596000</td>\n",
              "    </tr>\n",
              "    <tr>\n",
              "      <th>1</th>\n",
              "      <td>2017-04-07</td>\n",
              "      <td>35.932499</td>\n",
              "      <td>36.044998</td>\n",
              "      <td>35.817501</td>\n",
              "      <td>35.834999</td>\n",
              "      <td>33.833965</td>\n",
              "      <td>66688800</td>\n",
              "    </tr>\n",
              "    <tr>\n",
              "      <th>2</th>\n",
              "      <td>2017-04-10</td>\n",
              "      <td>35.900002</td>\n",
              "      <td>35.970001</td>\n",
              "      <td>35.724998</td>\n",
              "      <td>35.792500</td>\n",
              "      <td>33.793854</td>\n",
              "      <td>75733600</td>\n",
              "    </tr>\n",
              "    <tr>\n",
              "      <th>3</th>\n",
              "      <td>2017-04-11</td>\n",
              "      <td>35.735001</td>\n",
              "      <td>35.837502</td>\n",
              "      <td>35.014999</td>\n",
              "      <td>35.407501</td>\n",
              "      <td>33.430347</td>\n",
              "      <td>121517600</td>\n",
              "    </tr>\n",
              "    <tr>\n",
              "      <th>4</th>\n",
              "      <td>2017-04-12</td>\n",
              "      <td>35.400002</td>\n",
              "      <td>35.537498</td>\n",
              "      <td>35.252499</td>\n",
              "      <td>35.450001</td>\n",
              "      <td>33.470470</td>\n",
              "      <td>81400000</td>\n",
              "    </tr>\n",
              "  </tbody>\n",
              "</table>\n",
              "</div>\n",
              "      <button class=\"colab-df-convert\" onclick=\"convertToInteractive('df-32853041-f3af-46a4-a71f-4f4cad140109')\"\n",
              "              title=\"Convert this dataframe to an interactive table.\"\n",
              "              style=\"display:none;\">\n",
              "        \n",
              "  <svg xmlns=\"http://www.w3.org/2000/svg\" height=\"24px\"viewBox=\"0 0 24 24\"\n",
              "       width=\"24px\">\n",
              "    <path d=\"M0 0h24v24H0V0z\" fill=\"none\"/>\n",
              "    <path d=\"M18.56 5.44l.94 2.06.94-2.06 2.06-.94-2.06-.94-.94-2.06-.94 2.06-2.06.94zm-11 1L8.5 8.5l.94-2.06 2.06-.94-2.06-.94L8.5 2.5l-.94 2.06-2.06.94zm10 10l.94 2.06.94-2.06 2.06-.94-2.06-.94-.94-2.06-.94 2.06-2.06.94z\"/><path d=\"M17.41 7.96l-1.37-1.37c-.4-.4-.92-.59-1.43-.59-.52 0-1.04.2-1.43.59L10.3 9.45l-7.72 7.72c-.78.78-.78 2.05 0 2.83L4 21.41c.39.39.9.59 1.41.59.51 0 1.02-.2 1.41-.59l7.78-7.78 2.81-2.81c.8-.78.8-2.07 0-2.86zM5.41 20L4 18.59l7.72-7.72 1.47 1.35L5.41 20z\"/>\n",
              "  </svg>\n",
              "      </button>\n",
              "      \n",
              "  <style>\n",
              "    .colab-df-container {\n",
              "      display:flex;\n",
              "      flex-wrap:wrap;\n",
              "      gap: 12px;\n",
              "    }\n",
              "\n",
              "    .colab-df-convert {\n",
              "      background-color: #E8F0FE;\n",
              "      border: none;\n",
              "      border-radius: 50%;\n",
              "      cursor: pointer;\n",
              "      display: none;\n",
              "      fill: #1967D2;\n",
              "      height: 32px;\n",
              "      padding: 0 0 0 0;\n",
              "      width: 32px;\n",
              "    }\n",
              "\n",
              "    .colab-df-convert:hover {\n",
              "      background-color: #E2EBFA;\n",
              "      box-shadow: 0px 1px 2px rgba(60, 64, 67, 0.3), 0px 1px 3px 1px rgba(60, 64, 67, 0.15);\n",
              "      fill: #174EA6;\n",
              "    }\n",
              "\n",
              "    [theme=dark] .colab-df-convert {\n",
              "      background-color: #3B4455;\n",
              "      fill: #D2E3FC;\n",
              "    }\n",
              "\n",
              "    [theme=dark] .colab-df-convert:hover {\n",
              "      background-color: #434B5C;\n",
              "      box-shadow: 0px 1px 3px 1px rgba(0, 0, 0, 0.15);\n",
              "      filter: drop-shadow(0px 1px 2px rgba(0, 0, 0, 0.3));\n",
              "      fill: #FFFFFF;\n",
              "    }\n",
              "  </style>\n",
              "\n",
              "      <script>\n",
              "        const buttonEl =\n",
              "          document.querySelector('#df-32853041-f3af-46a4-a71f-4f4cad140109 button.colab-df-convert');\n",
              "        buttonEl.style.display =\n",
              "          google.colab.kernel.accessAllowed ? 'block' : 'none';\n",
              "\n",
              "        async function convertToInteractive(key) {\n",
              "          const element = document.querySelector('#df-32853041-f3af-46a4-a71f-4f4cad140109');\n",
              "          const dataTable =\n",
              "            await google.colab.kernel.invokeFunction('convertToInteractive',\n",
              "                                                     [key], {});\n",
              "          if (!dataTable) return;\n",
              "\n",
              "          const docLinkHtml = 'Like what you see? Visit the ' +\n",
              "            '<a target=\"_blank\" href=https://colab.research.google.com/notebooks/data_table.ipynb>data table notebook</a>'\n",
              "            + ' to learn more about interactive tables.';\n",
              "          element.innerHTML = '';\n",
              "          dataTable['output_type'] = 'display_data';\n",
              "          await google.colab.output.renderOutput(dataTable, element);\n",
              "          const docLink = document.createElement('div');\n",
              "          docLink.innerHTML = docLinkHtml;\n",
              "          element.appendChild(docLink);\n",
              "        }\n",
              "      </script>\n",
              "    </div>\n",
              "  </div>\n",
              "  "
            ]
          },
          "metadata": {},
          "execution_count": 3
        }
      ]
    },
    {
      "cell_type": "markdown",
      "source": [
        "Missingness and Format check is Essential!\n",
        "While working with an external data source, it is always a good idea to check the formatting and missingness of data."
      ],
      "metadata": {
        "id": "ac9U6PS_8pbo"
      }
    },
    {
      "cell_type": "code",
      "source": [
        "# Looking at the datatypes\n",
        "df.info()\n",
        "# We should convert Date to datetime object"
      ],
      "metadata": {
        "colab": {
          "base_uri": "https://localhost:8080/"
        },
        "id": "m6gEVden-A-d",
        "outputId": "68ec3b37-2df9-4b99-a8e4-152d25361078"
      },
      "execution_count": null,
      "outputs": [
        {
          "output_type": "stream",
          "name": "stdout",
          "text": [
            "<class 'pandas.core.frame.DataFrame'>\n",
            "RangeIndex: 1259 entries, 0 to 1258\n",
            "Data columns (total 7 columns):\n",
            " #   Column     Non-Null Count  Dtype  \n",
            "---  ------     --------------  -----  \n",
            " 0   Date       1259 non-null   object \n",
            " 1   Open       1259 non-null   float64\n",
            " 2   High       1259 non-null   float64\n",
            " 3   Low        1259 non-null   float64\n",
            " 4   Close      1259 non-null   float64\n",
            " 5   Adj Close  1259 non-null   float64\n",
            " 6   Volume     1259 non-null   int64  \n",
            "dtypes: float64(5), int64(1), object(1)\n",
            "memory usage: 69.0+ KB\n"
          ]
        }
      ]
    },
    {
      "cell_type": "markdown",
      "source": [
        "We identified that the Date format is incorrect and needs to be changed"
      ],
      "metadata": {
        "id": "JjSiRcxw81OJ"
      }
    },
    {
      "cell_type": "code",
      "source": [
        "df['Date']=pd.to_datetime(df['Date'])"
      ],
      "metadata": {
        "id": "M5QZT2m1-JR_"
      },
      "execution_count": null,
      "outputs": []
    },
    {
      "cell_type": "code",
      "source": [
        "df.info()"
      ],
      "metadata": {
        "colab": {
          "base_uri": "https://localhost:8080/"
        },
        "id": "HrMJZEzt-V8u",
        "outputId": "2ac9cbc5-e3f4-41ac-8264-9bfbb94c8671"
      },
      "execution_count": null,
      "outputs": [
        {
          "output_type": "stream",
          "name": "stdout",
          "text": [
            "<class 'pandas.core.frame.DataFrame'>\n",
            "RangeIndex: 1259 entries, 0 to 1258\n",
            "Data columns (total 7 columns):\n",
            " #   Column     Non-Null Count  Dtype         \n",
            "---  ------     --------------  -----         \n",
            " 0   Date       1259 non-null   datetime64[ns]\n",
            " 1   Open       1259 non-null   float64       \n",
            " 2   High       1259 non-null   float64       \n",
            " 3   Low        1259 non-null   float64       \n",
            " 4   Close      1259 non-null   float64       \n",
            " 5   Adj Close  1259 non-null   float64       \n",
            " 6   Volume     1259 non-null   int64         \n",
            "dtypes: datetime64[ns](1), float64(5), int64(1)\n",
            "memory usage: 69.0 KB\n"
          ]
        }
      ]
    },
    {
      "cell_type": "markdown",
      "source": [
        "The Date format has been successfully changed in the above output"
      ],
      "metadata": {
        "id": "0QKD6JTt87HL"
      }
    },
    {
      "cell_type": "markdown",
      "source": [
        "We now try to understand the range of information we have!, Moving into Data Analysis"
      ],
      "metadata": {
        "id": "-Ejdtwu69Ay9"
      }
    },
    {
      "cell_type": "markdown",
      "source": [
        "<a name=\"cell-id3\"></a>\n",
        "#Data Analysis"
      ],
      "metadata": {
        "id": "38SUWFDCd-f1"
      }
    },
    {
      "cell_type": "code",
      "source": [
        "print(\"Range of Dates: \\n First Day :\", \n",
        "      min(df['Date']), \"\\n Last Day :\", \n",
        "      max(df['Date']))\n",
        "print(\"Number of Datapoints\",len(df),\"Number of years:\",max(df['Date']).year-min(df['Date']).year)"
      ],
      "metadata": {
        "colab": {
          "base_uri": "https://localhost:8080/"
        },
        "id": "BDgYUbZi8dKy",
        "outputId": "aeaaefe1-48e5-4fb7-e4cf-9ca8320b96be"
      },
      "execution_count": null,
      "outputs": [
        {
          "output_type": "stream",
          "name": "stdout",
          "text": [
            "Range of Dates: \n",
            " First Day : 2017-04-06 00:00:00 \n",
            " Last Day : 2022-04-05 00:00:00\n",
            "Number of Datapoints 1259 Number of years: 5\n"
          ]
        }
      ]
    },
    {
      "cell_type": "code",
      "source": [
        "# we have around 5 years of data"
      ],
      "metadata": {
        "id": "76uAfOng9N-C"
      },
      "execution_count": null,
      "outputs": []
    },
    {
      "cell_type": "code",
      "source": [
        "# Looking at the stats of the data \n",
        "df.describe()"
      ],
      "metadata": {
        "colab": {
          "base_uri": "https://localhost:8080/",
          "height": 300
        },
        "id": "k7wHWZU37v2H",
        "outputId": "f7dfec82-49d4-4a0e-e758-fcfd3618c0ad"
      },
      "execution_count": null,
      "outputs": [
        {
          "output_type": "execute_result",
          "data": {
            "text/plain": [
              "              Open         High          Low        Close    Adj Close  \\\n",
              "count  1259.000000  1259.000000  1259.000000  1259.000000  1259.000000   \n",
              "mean     81.654784    82.573819    80.776900    81.720985    80.541057   \n",
              "std      44.370998    44.924198    43.824674    44.407423    44.894697   \n",
              "min      35.305000    35.470001    35.014999    35.169998    33.206104   \n",
              "25%      43.911251    44.405000    43.648748    44.056252    42.404394   \n",
              "50%      57.020000    57.482498    56.657501    56.997501    55.683498   \n",
              "75%     123.960003   125.294998   122.250000   124.325001   123.262616   \n",
              "max     182.630005   182.940002   179.119995   182.009995   181.778397   \n",
              "\n",
              "             Volume  \n",
              "count  1.259000e+03  \n",
              "mean   1.202587e+08  \n",
              "std    5.545213e+07  \n",
              "min    4.100000e+07  \n",
              "25%    8.352340e+07  \n",
              "50%    1.052076e+08  \n",
              "75%    1.401866e+08  \n",
              "max    4.265100e+08  "
            ],
            "text/html": [
              "\n",
              "  <div id=\"df-fcdd7cc0-f709-42a8-9dde-6578631f563f\">\n",
              "    <div class=\"colab-df-container\">\n",
              "      <div>\n",
              "<style scoped>\n",
              "    .dataframe tbody tr th:only-of-type {\n",
              "        vertical-align: middle;\n",
              "    }\n",
              "\n",
              "    .dataframe tbody tr th {\n",
              "        vertical-align: top;\n",
              "    }\n",
              "\n",
              "    .dataframe thead th {\n",
              "        text-align: right;\n",
              "    }\n",
              "</style>\n",
              "<table border=\"1\" class=\"dataframe\">\n",
              "  <thead>\n",
              "    <tr style=\"text-align: right;\">\n",
              "      <th></th>\n",
              "      <th>Open</th>\n",
              "      <th>High</th>\n",
              "      <th>Low</th>\n",
              "      <th>Close</th>\n",
              "      <th>Adj Close</th>\n",
              "      <th>Volume</th>\n",
              "    </tr>\n",
              "  </thead>\n",
              "  <tbody>\n",
              "    <tr>\n",
              "      <th>count</th>\n",
              "      <td>1259.000000</td>\n",
              "      <td>1259.000000</td>\n",
              "      <td>1259.000000</td>\n",
              "      <td>1259.000000</td>\n",
              "      <td>1259.000000</td>\n",
              "      <td>1.259000e+03</td>\n",
              "    </tr>\n",
              "    <tr>\n",
              "      <th>mean</th>\n",
              "      <td>81.654784</td>\n",
              "      <td>82.573819</td>\n",
              "      <td>80.776900</td>\n",
              "      <td>81.720985</td>\n",
              "      <td>80.541057</td>\n",
              "      <td>1.202587e+08</td>\n",
              "    </tr>\n",
              "    <tr>\n",
              "      <th>std</th>\n",
              "      <td>44.370998</td>\n",
              "      <td>44.924198</td>\n",
              "      <td>43.824674</td>\n",
              "      <td>44.407423</td>\n",
              "      <td>44.894697</td>\n",
              "      <td>5.545213e+07</td>\n",
              "    </tr>\n",
              "    <tr>\n",
              "      <th>min</th>\n",
              "      <td>35.305000</td>\n",
              "      <td>35.470001</td>\n",
              "      <td>35.014999</td>\n",
              "      <td>35.169998</td>\n",
              "      <td>33.206104</td>\n",
              "      <td>4.100000e+07</td>\n",
              "    </tr>\n",
              "    <tr>\n",
              "      <th>25%</th>\n",
              "      <td>43.911251</td>\n",
              "      <td>44.405000</td>\n",
              "      <td>43.648748</td>\n",
              "      <td>44.056252</td>\n",
              "      <td>42.404394</td>\n",
              "      <td>8.352340e+07</td>\n",
              "    </tr>\n",
              "    <tr>\n",
              "      <th>50%</th>\n",
              "      <td>57.020000</td>\n",
              "      <td>57.482498</td>\n",
              "      <td>56.657501</td>\n",
              "      <td>56.997501</td>\n",
              "      <td>55.683498</td>\n",
              "      <td>1.052076e+08</td>\n",
              "    </tr>\n",
              "    <tr>\n",
              "      <th>75%</th>\n",
              "      <td>123.960003</td>\n",
              "      <td>125.294998</td>\n",
              "      <td>122.250000</td>\n",
              "      <td>124.325001</td>\n",
              "      <td>123.262616</td>\n",
              "      <td>1.401866e+08</td>\n",
              "    </tr>\n",
              "    <tr>\n",
              "      <th>max</th>\n",
              "      <td>182.630005</td>\n",
              "      <td>182.940002</td>\n",
              "      <td>179.119995</td>\n",
              "      <td>182.009995</td>\n",
              "      <td>181.778397</td>\n",
              "      <td>4.265100e+08</td>\n",
              "    </tr>\n",
              "  </tbody>\n",
              "</table>\n",
              "</div>\n",
              "      <button class=\"colab-df-convert\" onclick=\"convertToInteractive('df-fcdd7cc0-f709-42a8-9dde-6578631f563f')\"\n",
              "              title=\"Convert this dataframe to an interactive table.\"\n",
              "              style=\"display:none;\">\n",
              "        \n",
              "  <svg xmlns=\"http://www.w3.org/2000/svg\" height=\"24px\"viewBox=\"0 0 24 24\"\n",
              "       width=\"24px\">\n",
              "    <path d=\"M0 0h24v24H0V0z\" fill=\"none\"/>\n",
              "    <path d=\"M18.56 5.44l.94 2.06.94-2.06 2.06-.94-2.06-.94-.94-2.06-.94 2.06-2.06.94zm-11 1L8.5 8.5l.94-2.06 2.06-.94-2.06-.94L8.5 2.5l-.94 2.06-2.06.94zm10 10l.94 2.06.94-2.06 2.06-.94-2.06-.94-.94-2.06-.94 2.06-2.06.94z\"/><path d=\"M17.41 7.96l-1.37-1.37c-.4-.4-.92-.59-1.43-.59-.52 0-1.04.2-1.43.59L10.3 9.45l-7.72 7.72c-.78.78-.78 2.05 0 2.83L4 21.41c.39.39.9.59 1.41.59.51 0 1.02-.2 1.41-.59l7.78-7.78 2.81-2.81c.8-.78.8-2.07 0-2.86zM5.41 20L4 18.59l7.72-7.72 1.47 1.35L5.41 20z\"/>\n",
              "  </svg>\n",
              "      </button>\n",
              "      \n",
              "  <style>\n",
              "    .colab-df-container {\n",
              "      display:flex;\n",
              "      flex-wrap:wrap;\n",
              "      gap: 12px;\n",
              "    }\n",
              "\n",
              "    .colab-df-convert {\n",
              "      background-color: #E8F0FE;\n",
              "      border: none;\n",
              "      border-radius: 50%;\n",
              "      cursor: pointer;\n",
              "      display: none;\n",
              "      fill: #1967D2;\n",
              "      height: 32px;\n",
              "      padding: 0 0 0 0;\n",
              "      width: 32px;\n",
              "    }\n",
              "\n",
              "    .colab-df-convert:hover {\n",
              "      background-color: #E2EBFA;\n",
              "      box-shadow: 0px 1px 2px rgba(60, 64, 67, 0.3), 0px 1px 3px 1px rgba(60, 64, 67, 0.15);\n",
              "      fill: #174EA6;\n",
              "    }\n",
              "\n",
              "    [theme=dark] .colab-df-convert {\n",
              "      background-color: #3B4455;\n",
              "      fill: #D2E3FC;\n",
              "    }\n",
              "\n",
              "    [theme=dark] .colab-df-convert:hover {\n",
              "      background-color: #434B5C;\n",
              "      box-shadow: 0px 1px 3px 1px rgba(0, 0, 0, 0.15);\n",
              "      filter: drop-shadow(0px 1px 2px rgba(0, 0, 0, 0.3));\n",
              "      fill: #FFFFFF;\n",
              "    }\n",
              "  </style>\n",
              "\n",
              "      <script>\n",
              "        const buttonEl =\n",
              "          document.querySelector('#df-fcdd7cc0-f709-42a8-9dde-6578631f563f button.colab-df-convert');\n",
              "        buttonEl.style.display =\n",
              "          google.colab.kernel.accessAllowed ? 'block' : 'none';\n",
              "\n",
              "        async function convertToInteractive(key) {\n",
              "          const element = document.querySelector('#df-fcdd7cc0-f709-42a8-9dde-6578631f563f');\n",
              "          const dataTable =\n",
              "            await google.colab.kernel.invokeFunction('convertToInteractive',\n",
              "                                                     [key], {});\n",
              "          if (!dataTable) return;\n",
              "\n",
              "          const docLinkHtml = 'Like what you see? Visit the ' +\n",
              "            '<a target=\"_blank\" href=https://colab.research.google.com/notebooks/data_table.ipynb>data table notebook</a>'\n",
              "            + ' to learn more about interactive tables.';\n",
              "          element.innerHTML = '';\n",
              "          dataTable['output_type'] = 'display_data';\n",
              "          await google.colab.output.renderOutput(dataTable, element);\n",
              "          const docLink = document.createElement('div');\n",
              "          docLink.innerHTML = docLinkHtml;\n",
              "          element.appendChild(docLink);\n",
              "        }\n",
              "      </script>\n",
              "    </div>\n",
              "  </div>\n",
              "  "
            ]
          },
          "metadata": {},
          "execution_count": 9
        }
      ]
    },
    {
      "cell_type": "code",
      "source": [
        "# Setting the index as 'Date', this will help us with plotting and indexing the data\n",
        "df=df.set_index('Date')\n",
        "\n",
        "# Selecting only the Close column because, for this tutorial, we plan to \n",
        "# Look specifically at end of day closing price of the interested stock\n",
        "df_clean=df[['Close']]\n",
        "\n",
        "# We shall use the df_clean pandas dataframe to work with modelling\n",
        "df_clean.head()"
      ],
      "metadata": {
        "colab": {
          "base_uri": "https://localhost:8080/",
          "height": 238
        },
        "id": "q4wbeKYc7KaB",
        "outputId": "428f3312-9a89-4cfc-b227-1ef5bfaf3eb6"
      },
      "execution_count": null,
      "outputs": [
        {
          "output_type": "execute_result",
          "data": {
            "text/plain": [
              "                Close\n",
              "Date                 \n",
              "2017-04-06  35.915001\n",
              "2017-04-07  35.834999\n",
              "2017-04-10  35.792500\n",
              "2017-04-11  35.407501\n",
              "2017-04-12  35.450001"
            ],
            "text/html": [
              "\n",
              "  <div id=\"df-273fa17b-e233-41b0-b9fc-047c95f675a3\">\n",
              "    <div class=\"colab-df-container\">\n",
              "      <div>\n",
              "<style scoped>\n",
              "    .dataframe tbody tr th:only-of-type {\n",
              "        vertical-align: middle;\n",
              "    }\n",
              "\n",
              "    .dataframe tbody tr th {\n",
              "        vertical-align: top;\n",
              "    }\n",
              "\n",
              "    .dataframe thead th {\n",
              "        text-align: right;\n",
              "    }\n",
              "</style>\n",
              "<table border=\"1\" class=\"dataframe\">\n",
              "  <thead>\n",
              "    <tr style=\"text-align: right;\">\n",
              "      <th></th>\n",
              "      <th>Close</th>\n",
              "    </tr>\n",
              "    <tr>\n",
              "      <th>Date</th>\n",
              "      <th></th>\n",
              "    </tr>\n",
              "  </thead>\n",
              "  <tbody>\n",
              "    <tr>\n",
              "      <th>2017-04-06</th>\n",
              "      <td>35.915001</td>\n",
              "    </tr>\n",
              "    <tr>\n",
              "      <th>2017-04-07</th>\n",
              "      <td>35.834999</td>\n",
              "    </tr>\n",
              "    <tr>\n",
              "      <th>2017-04-10</th>\n",
              "      <td>35.792500</td>\n",
              "    </tr>\n",
              "    <tr>\n",
              "      <th>2017-04-11</th>\n",
              "      <td>35.407501</td>\n",
              "    </tr>\n",
              "    <tr>\n",
              "      <th>2017-04-12</th>\n",
              "      <td>35.450001</td>\n",
              "    </tr>\n",
              "  </tbody>\n",
              "</table>\n",
              "</div>\n",
              "      <button class=\"colab-df-convert\" onclick=\"convertToInteractive('df-273fa17b-e233-41b0-b9fc-047c95f675a3')\"\n",
              "              title=\"Convert this dataframe to an interactive table.\"\n",
              "              style=\"display:none;\">\n",
              "        \n",
              "  <svg xmlns=\"http://www.w3.org/2000/svg\" height=\"24px\"viewBox=\"0 0 24 24\"\n",
              "       width=\"24px\">\n",
              "    <path d=\"M0 0h24v24H0V0z\" fill=\"none\"/>\n",
              "    <path d=\"M18.56 5.44l.94 2.06.94-2.06 2.06-.94-2.06-.94-.94-2.06-.94 2.06-2.06.94zm-11 1L8.5 8.5l.94-2.06 2.06-.94-2.06-.94L8.5 2.5l-.94 2.06-2.06.94zm10 10l.94 2.06.94-2.06 2.06-.94-2.06-.94-.94-2.06-.94 2.06-2.06.94z\"/><path d=\"M17.41 7.96l-1.37-1.37c-.4-.4-.92-.59-1.43-.59-.52 0-1.04.2-1.43.59L10.3 9.45l-7.72 7.72c-.78.78-.78 2.05 0 2.83L4 21.41c.39.39.9.59 1.41.59.51 0 1.02-.2 1.41-.59l7.78-7.78 2.81-2.81c.8-.78.8-2.07 0-2.86zM5.41 20L4 18.59l7.72-7.72 1.47 1.35L5.41 20z\"/>\n",
              "  </svg>\n",
              "      </button>\n",
              "      \n",
              "  <style>\n",
              "    .colab-df-container {\n",
              "      display:flex;\n",
              "      flex-wrap:wrap;\n",
              "      gap: 12px;\n",
              "    }\n",
              "\n",
              "    .colab-df-convert {\n",
              "      background-color: #E8F0FE;\n",
              "      border: none;\n",
              "      border-radius: 50%;\n",
              "      cursor: pointer;\n",
              "      display: none;\n",
              "      fill: #1967D2;\n",
              "      height: 32px;\n",
              "      padding: 0 0 0 0;\n",
              "      width: 32px;\n",
              "    }\n",
              "\n",
              "    .colab-df-convert:hover {\n",
              "      background-color: #E2EBFA;\n",
              "      box-shadow: 0px 1px 2px rgba(60, 64, 67, 0.3), 0px 1px 3px 1px rgba(60, 64, 67, 0.15);\n",
              "      fill: #174EA6;\n",
              "    }\n",
              "\n",
              "    [theme=dark] .colab-df-convert {\n",
              "      background-color: #3B4455;\n",
              "      fill: #D2E3FC;\n",
              "    }\n",
              "\n",
              "    [theme=dark] .colab-df-convert:hover {\n",
              "      background-color: #434B5C;\n",
              "      box-shadow: 0px 1px 3px 1px rgba(0, 0, 0, 0.15);\n",
              "      filter: drop-shadow(0px 1px 2px rgba(0, 0, 0, 0.3));\n",
              "      fill: #FFFFFF;\n",
              "    }\n",
              "  </style>\n",
              "\n",
              "      <script>\n",
              "        const buttonEl =\n",
              "          document.querySelector('#df-273fa17b-e233-41b0-b9fc-047c95f675a3 button.colab-df-convert');\n",
              "        buttonEl.style.display =\n",
              "          google.colab.kernel.accessAllowed ? 'block' : 'none';\n",
              "\n",
              "        async function convertToInteractive(key) {\n",
              "          const element = document.querySelector('#df-273fa17b-e233-41b0-b9fc-047c95f675a3');\n",
              "          const dataTable =\n",
              "            await google.colab.kernel.invokeFunction('convertToInteractive',\n",
              "                                                     [key], {});\n",
              "          if (!dataTable) return;\n",
              "\n",
              "          const docLinkHtml = 'Like what you see? Visit the ' +\n",
              "            '<a target=\"_blank\" href=https://colab.research.google.com/notebooks/data_table.ipynb>data table notebook</a>'\n",
              "            + ' to learn more about interactive tables.';\n",
              "          element.innerHTML = '';\n",
              "          dataTable['output_type'] = 'display_data';\n",
              "          await google.colab.output.renderOutput(dataTable, element);\n",
              "          const docLink = document.createElement('div');\n",
              "          docLink.innerHTML = docLinkHtml;\n",
              "          element.appendChild(docLink);\n",
              "        }\n",
              "      </script>\n",
              "    </div>\n",
              "  </div>\n",
              "  "
            ]
          },
          "metadata": {},
          "execution_count": 10
        }
      ]
    },
    {
      "cell_type": "markdown",
      "source": [
        "Lets visualize how the Time Series Data of Stock's Closing price varies in time"
      ],
      "metadata": {
        "id": "gyTMXjRbABfu"
      }
    },
    {
      "cell_type": "code",
      "source": [
        "# Using the matplotlibs abilites to directly plot the dataframe\n",
        "# The Date index in our dataframe helps matplotlib to plot it  :)\n",
        "\n",
        "plt.plot(df_clean)\n",
        "plt.title(\"Apple's Stock Price Data over 5 years\")\n",
        "plt.ylabel('Values in US Dollars')\n",
        "plt.show()"
      ],
      "metadata": {
        "colab": {
          "base_uri": "https://localhost:8080/",
          "height": 281
        },
        "id": "1JVU1i4yf0z_",
        "outputId": "82ca981f-685b-4c26-f042-2bb1b789d82c"
      },
      "execution_count": null,
      "outputs": [
        {
          "output_type": "display_data",
          "data": {
            "text/plain": [
              "<Figure size 432x288 with 1 Axes>"
            ],
            "image/png": "[encoded data removed]"
          },
          "metadata": {
            "needs_background": "light"
          }
        }
      ]
    },
    {
      "cell_type": "markdown",
      "source": [
        "Apple might have had hiccups over the last 5 years, but we see a constant upward trend in thier stock's growth.\n",
        "The Apple Inc. stocks have gone 4X in 5 years! "
      ],
      "metadata": {
        "id": "8kHhmselA0rN"
      }
    },
    {
      "cell_type": "markdown",
      "source": [
        "<a name=\"cell-id4\"></a>\n",
        "#Data Processing and Loading into tensors for PyTorch"
      ],
      "metadata": {
        "id": "yoF5HTJcd9BJ"
      }
    },
    {
      "cell_type": "markdown",
      "source": [
        "Pytorch works with numpy arrays and converting numpy to tensors is easier.\n",
        "We shall work with the values of the close column of dataset"
      ],
      "metadata": {
        "id": "lADrQIJYBTyW"
      }
    },
    {
      "cell_type": "code",
      "source": [
        "# We shall work with the values of the close dataset\n",
        "\n",
        "df_pytorch = df_clean[['Close']].values"
      ],
      "metadata": {
        "id": "82IhzyV7_2lz"
      },
      "execution_count": null,
      "outputs": []
    },
    {
      "cell_type": "code",
      "source": [
        "# LSTM is a recurrent neural network which models on the sequence prediction\n",
        "# To predict a sequence, LSTM models on a Window like sequence of inputs\n",
        "\n",
        "def LSTM_Data_input_generation(window_size):\n",
        "    \n",
        "    # The training sequence is the window_size'd list of training inputs \n",
        "    # which the model fits on. Basically the window_size-1 features\n",
        "    train_seq = []\n",
        "\n",
        "    # The model trains on teh window_size'd features to predict window_size'th output\n",
        "    # This below variable helps us keep a track of that\n",
        "    pred_seq = []\n",
        "\n",
        "    # The window to create a sequence for inputs, can only go up unil the window has all spaces filled within\n",
        "    # Mathematically, \n",
        "    max_window_traversal=df_pytorch.shape[0]-window_size-1\n",
        "\n",
        "    for curr_seq_no in range(0,max_window_traversal,1):\n",
        "        # Takes the window number of inputs but the last input\n",
        "        train_seq.append(df_pytorch[curr_seq_no:curr_seq_no+window_size])\n",
        "\n",
        "        # Takes the last input in the window\n",
        "        pred_seq.append(df_pytorch[curr_seq_no+window_size])\n",
        "\n",
        "    return train_seq,pred_seq"
      ],
      "metadata": {
        "id": "kO5sdc8r_1-Z"
      },
      "execution_count": null,
      "outputs": []
    },
    {
      "cell_type": "markdown",
      "source": [
        "<a name=\"cell-id5\"></a>\n",
        "# Feature Engineering\n",
        "There is a need of rescaling the data because LSTM functions on a optimizing a loss function. The optimizer works on reaching the minima through a learning rate.\n",
        "The learning rate is often small. If the data is of a larger scale, it will cause the learning rate to be insignificant. Hence, rescaling will help us avoid this issue.\n",
        "\n",
        "Since each datapoint is important in a timeseries exercise, we choose not to remove any datapoints."
      ],
      "metadata": {
        "id": "rrrdyu3YX7J9"
      }
    },
    {
      "cell_type": "code",
      "source": [
        "# We rescale the data to have a better looking distribution for the model\n",
        "# MinMaxScaler is a safe approach as it moves all data into -1 to +1 range\n",
        "\n",
        "RememberThisScaler=MinMaxScaler()\n",
        "df_pytorch = RememberThisScaler.fit_transform(df_pytorch)"
      ],
      "metadata": {
        "id": "_PPdWS9rDAcc"
      },
      "execution_count": null,
      "outputs": []
    },
    {
      "cell_type": "code",
      "source": [
        "# We could use a two week window, i.e 14\n",
        "window_size = 14\n",
        "\n",
        "# The LSTM_Data_input_generation functions helps us convert data into a feature sequence  + expected prediction data\n",
        "\n",
        "feats, preds = LSTM_Data_input_generation(window_size)"
      ],
      "metadata": {
        "id": "WUSbXcLrEY9C"
      },
      "execution_count": null,
      "outputs": []
    },
    {
      "cell_type": "markdown",
      "source": [
        "Lets look at how a feature and corresponding real y/next datapoint looks like"
      ],
      "metadata": {
        "id": "xdXto0SdY8gA"
      }
    },
    {
      "cell_type": "code",
      "source": [
        "feats[0]"
      ],
      "metadata": {
        "colab": {
          "base_uri": "https://localhost:8080/"
        },
        "id": "-eHlWJYLK5l1",
        "outputId": "5feb9651-a3b8-497d-ec31-e2aec827defc"
      },
      "execution_count": null,
      "outputs": [
        {
          "output_type": "execute_result",
          "data": {
            "text/plain": [
              "array([[0.00507357],\n",
              "       [0.00452875],\n",
              "       [0.00423932],\n",
              "       [0.00161743],\n",
              "       [0.00190686],\n",
              "       [0.00062996],\n",
              "       [0.00195793],\n",
              "       [0.00088532],\n",
              "       [0.        ],\n",
              "       [0.00299648],\n",
              "       [0.00270705],\n",
              "       [0.00503951],\n",
              "       [0.00655477],\n",
              "       [0.0051076 ]])"
            ]
          },
          "metadata": {},
          "execution_count": 16
        }
      ]
    },
    {
      "cell_type": "code",
      "source": [
        "preds[0]"
      ],
      "metadata": {
        "colab": {
          "base_uri": "https://localhost:8080/"
        },
        "id": "Dr7aW5GOZHQe",
        "outputId": "1cb7668a-e200-4994-8f44-33c8c497e95b"
      },
      "execution_count": null,
      "outputs": [
        {
          "output_type": "execute_result",
          "data": {
            "text/plain": [
              "array([0.00529488])"
            ]
          },
          "metadata": {},
          "execution_count": 17
        }
      ]
    },
    {
      "cell_type": "markdown",
      "source": [
        "Since we we're now able to push a list of sequences into the LSTM architechture, we shall now focus on splitting the dataset into train,validate and test datasets."
      ],
      "metadata": {
        "id": "frw3BslBZK8k"
      }
    },
    {
      "cell_type": "markdown",
      "source": [
        "<a name=\"cell-id6\"></a>\n",
        "# LSTM Architecture"
      ],
      "metadata": {
        "id": "8QIbYOdlB1r3"
      }
    },
    {
      "cell_type": "code",
      "source": [
        "# This is the stanadard way of building a Nerural Network Architecture in Pytorch\n",
        "\n",
        "# To keep this Architecture simple, we can use the below parameters to design LSTM architecture\n",
        "\n",
        "class My_Neural_Network(nn.Module):\n",
        "\n",
        "    def __init__(self,input_size, hidden_size, num_layers,bias,output_size):\n",
        "        \n",
        "        # Essential to call the super class to initate the object in pytorch\n",
        "        \n",
        "        super(My_Neural_Network, self).__init__()\n",
        "\n",
        "        # init the model params\n",
        "        self.input_size = input_size\n",
        "        self.hidden_size = hidden_size\n",
        "        self.num_layers = num_layers\n",
        "        self.output_size = output_size\n",
        "        \n",
        "        # Init the lstm layer\n",
        "        self.LSTM = nn.LSTM(batch_first=True,input_size=input_size, hidden_size=hidden_size,num_layers=num_layers)\n",
        "\n",
        "        # The last layer takes all LSTM outputs and makes a linear layer to output a value\n",
        "        self.OutputLayer = nn.Linear(hidden_size, output_size)\n",
        "        \n",
        "    def forward(self, x):\n",
        "\n",
        "        # Pytorch requires inputs to be in the below format\n",
        "        input1=x\n",
        "        input2_1 = torch.zeros(self.num_layers,len(input1),self.hidden_size)\n",
        "        input2_2 = torch.zeros(self.num_layers,len(input1),self.hidden_size)\n",
        "        input2=(input2_1,input2_2)\n",
        "\n",
        "\n",
        "        # Writing the Lstm forward step with the given inputs from the data\n",
        "        out1, (out2, out3) = self.LSTM(input1,input2)\n",
        "        \n",
        "        # Transforming the data into the output format \n",
        "        out2 = out2.view(-1, self.hidden_size)\n",
        "        \n",
        "        # This forward pass will be useful for back propogation\n",
        "        return self.OutputLayer(out2)"
      ],
      "metadata": {
        "id": "uFeGGLPniOfH"
      },
      "execution_count": null,
      "outputs": []
    },
    {
      "cell_type": "markdown",
      "source": [
        "### Cross Validation\n",
        "70-20-10 would be a reasonable split of datapoints because, we'd often want as much as information into the sequential training. Time series datasets are often scarce."
      ],
      "metadata": {
        "id": "H-IGKMzlZZE0"
      }
    },
    {
      "cell_type": "code",
      "source": [
        "# Let us use the 70-20-10 split \n",
        "\n",
        "train_size = int(len(preds) * 0.70)\n",
        "validate_size = int(len(preds) * 0.20)\n",
        "test_size=(len(preds) - (validate_size+train_size))\n",
        "\n",
        "# Converting the numpy data into tensors for pytorch operations\n",
        "\n",
        "tensor_feats = torch.Tensor(np.array(feats))\n",
        "tensor_preds = torch.Tensor(np.array(preds))\n",
        "\n",
        "# Train \n",
        "Train_tensor_feats=tensor_feats[:train_size]\n",
        "Train_tensor_preds=tensor_preds[:train_size]\n",
        "\n",
        "# Validate\n",
        "\n",
        "Validate_tensor_feats=tensor_feats[train_size:train_size+validate_size]\n",
        "Validate_tensor_preds=tensor_preds[train_size:train_size+validate_size]\n",
        "\n",
        "# Test\n",
        "\n",
        "Test_tensor_feats=tensor_feats[train_size+validate_size:]\n",
        "Test_tensor_preds=tensor_preds[train_size+validate_size:]\n"
      ],
      "metadata": {
        "id": "_SlerdNFguG6"
      },
      "execution_count": null,
      "outputs": []
    },
    {
      "cell_type": "markdown",
      "source": [
        "Data Split Verification helps us keep a track of how much data is going into which variables"
      ],
      "metadata": {
        "id": "YCfn4rGlcAqw"
      }
    },
    {
      "cell_type": "code",
      "source": [
        "# Verifying if the data has split correctly\n",
        "print(\"Train Sizes: \",len(Train_tensor_feats),len(Train_tensor_preds),train_size)\n",
        "print(\"Validate Sizes: \",len(Validate_tensor_feats),len(Validate_tensor_preds),validate_size)\n",
        "print(\"Test Sizes: \",len(Test_tensor_feats),len(Test_tensor_preds),test_size)"
      ],
      "metadata": {
        "colab": {
          "base_uri": "https://localhost:8080/"
        },
        "id": "HcMNguIdabnz",
        "outputId": "0475f0c2-624d-41bd-dd4f-71059960f827"
      },
      "execution_count": null,
      "outputs": [
        {
          "output_type": "stream",
          "name": "stdout",
          "text": [
            "Train Sizes:  870 870 870\n",
            "Validate Sizes:  248 248 248\n",
            "Test Sizes:  126 126 126\n"
          ]
        }
      ]
    },
    {
      "cell_type": "markdown",
      "source": [
        "<a name=\"cell-id7\"></a>\n",
        "#Time Series Modelling with LSTM"
      ],
      "metadata": {
        "id": "bOqqQSLUd-iG"
      }
    },
    {
      "cell_type": "markdown",
      "source": [
        "Pytorch is a great Framework which helps us in building our own Neural Network Architechtures to perform deep learning.\n",
        "\n",
        "Below we will create our LSTM architecture."
      ],
      "metadata": {
        "id": "OJEODwjYPDhc"
      }
    },
    {
      "cell_type": "markdown",
      "source": [
        "### As per [Official LSTM Pytorch Documentation](https://pytorch.org/docs/stable/generated/torch.nn.LSTM.html): \n",
        "\n",
        "Below are the parameter definations:\n",
        "\n",
        "input_size – The number of expected features in the input x\n",
        "\n",
        "hidden_size – The number of features in the hidden state h\n",
        "\n",
        "num_layers – Number of recurrent layers. E.g., setting num_layers=2 would mean stacking two LSTMs together to form a stacked LSTM, with the second LSTM taking in outputs of the first LSTM and computing the final results. Default: 1\n",
        "\n",
        "bias – If False, then the layer does not use bias weights b_ih and b_hh. Default: True\n",
        "\n",
        "batch_first – If True, then the input and output tensors are provided as (batch, seq, feature) instead of (seq, batch, feature). Note that this does not apply to hidden or cell states. See the Inputs/Outputs sections below for details. Default: False\n",
        "\n",
        "dropout – If non-zero, introduces a Dropout layer on the outputs of each LSTM layer except the last layer, with dropout probability equal to dropout. Default: 0\n",
        "\n",
        "bidirectional – If True, becomes a bidirectional LSTM. Default: False\n",
        "\n",
        "proj_size – If > 0, will use LSTM with projections of corresponding size. Default: 0"
      ],
      "metadata": {
        "id": "5GjAWYEnQqo7"
      }
    },
    {
      "cell_type": "markdown",
      "source": [
        "Intitalizing all the model variables"
      ],
      "metadata": {
        "id": "s3zAfdHJmn25"
      }
    },
    {
      "cell_type": "code",
      "source": [
        "# Hence we begin initalizing the parameters required for the LSTM design\n",
        "# we can wrap these around a parameter variable\n",
        "\n",
        "input_size = 1\n",
        "hidden_size = window_size\n",
        "num_layers = 1\n",
        "bias=False\n",
        "output_size = 1\n"
      ],
      "metadata": {
        "id": "TRloay4WQ_s9"
      },
      "execution_count": null,
      "outputs": []
    },
    {
      "cell_type": "markdown",
      "source": [
        "Initializing the number if epochs we want to run the model on.\n",
        "\n",
        "Initializing the learning rate"
      ],
      "metadata": {
        "id": "727FtCtf53Hq"
      }
    },
    {
      "cell_type": "code",
      "source": [
        "epochs = 1000\n",
        "lr = 0.01"
      ],
      "metadata": {
        "id": "i_9QW0D4yCPO"
      },
      "execution_count": null,
      "outputs": []
    },
    {
      "cell_type": "code",
      "source": [
        "# Initialize the model\n",
        "my_model = My_Neural_Network(input_size, hidden_size, num_layers,bias,output_size)"
      ],
      "metadata": {
        "id": "X3DVIl2zcVxF"
      },
      "execution_count": null,
      "outputs": []
    },
    {
      "cell_type": "code",
      "source": [
        "# Optimizer and Loss function needs to be defined\n",
        "\n",
        "# We can use any kind of loss & optim function, but in this case we use MSE and SGD\n",
        "# Since we're working with Time series data, best loss we want to min is the MSE loss\n",
        "criterion = torch.nn.MSELoss()    \n",
        "\n",
        "# Through experimentation, ADAM was better than SGD. You can try with the below code.\n",
        "\n",
        "# optimizer = torch.optim.SGD(my_model.parameters(), lr=lr)\n",
        "optimizer = torch.optim.Adam(my_model.parameters(), lr=lr)"
      ],
      "metadata": {
        "id": "SddADgN7cTe-"
      },
      "execution_count": null,
      "outputs": []
    },
    {
      "cell_type": "markdown",
      "source": [
        "Training the model"
      ],
      "metadata": {
        "id": "PKUIdJZFAUct"
      }
    },
    {
      "cell_type": "code",
      "source": [
        "# Train the model\n",
        "\n",
        "for epoch in range(epochs):\n",
        "    optimizer.zero_grad()\n",
        "    \n",
        "    outputs = my_model(Train_tensor_feats)\n",
        "    \n",
        "    # See how much loss is present\n",
        "    loss = criterion(outputs, Train_tensor_preds)\n",
        "    \n",
        "    # Backward pass the loss value to the model to help it improve\n",
        "    loss.backward()\n",
        "    \n",
        "    # Step away from the gradient \n",
        "    optimizer.step()\n",
        "    \n",
        "    if epoch % 50 == 0:\n",
        "      print(\"Epoch: \",epoch,\" , loss: \",loss.item())"
      ],
      "metadata": {
        "colab": {
          "base_uri": "https://localhost:8080/"
        },
        "id": "NqXfH-PE2vyw",
        "outputId": "c605bf89-023f-40b2-d49c-cf3fa639b0ec"
      },
      "execution_count": null,
      "outputs": [
        {
          "output_type": "stream",
          "name": "stdout",
          "text": [
            "Epoch:  0  , loss:  0.02513449266552925\n",
            "Epoch:  50  , loss:  0.0002696300798561424\n",
            "Epoch:  100  , loss:  0.0001769569789757952\n",
            "Epoch:  150  , loss:  0.00016699492698535323\n",
            "Epoch:  200  , loss:  0.0001565597194712609\n",
            "Epoch:  250  , loss:  0.00014580448623746634\n",
            "Epoch:  300  , loss:  0.00013469194527715445\n",
            "Epoch:  350  , loss:  0.0001241947611561045\n",
            "Epoch:  400  , loss:  0.0001175792858703062\n",
            "Epoch:  450  , loss:  0.00011344539962010458\n",
            "Epoch:  500  , loss:  0.0001098140055546537\n",
            "Epoch:  550  , loss:  0.0001065422547981143\n",
            "Epoch:  600  , loss:  0.00010361193562857807\n",
            "Epoch:  650  , loss:  0.00010383492190157995\n",
            "Epoch:  700  , loss:  9.972143016057089e-05\n",
            "Epoch:  750  , loss:  9.775683429325e-05\n",
            "Epoch:  800  , loss:  9.610890265321359e-05\n",
            "Epoch:  850  , loss:  9.802948625292629e-05\n",
            "Epoch:  900  , loss:  9.44964776863344e-05\n",
            "Epoch:  950  , loss:  9.320693789049983e-05\n"
          ]
        }
      ]
    },
    {
      "cell_type": "markdown",
      "source": [
        "We can see a decreasing trend in the MSE loss which is a good sign :)"
      ],
      "metadata": {
        "id": "5xtwL_UF3pVY"
      }
    },
    {
      "cell_type": "markdown",
      "source": [
        "<a name=\"cell-id8\"></a>\n",
        "#Validating the LSTM"
      ],
      "metadata": {
        "id": "kyipwC9BeWSb"
      }
    },
    {
      "cell_type": "code",
      "source": [
        "# we put the model into evaluation mode for validation and testing\n",
        "my_model.eval()\n"
      ],
      "metadata": {
        "colab": {
          "base_uri": "https://localhost:8080/"
        },
        "id": "879_C2Mt6kpo",
        "outputId": "7411f83f-53b8-4452-de21-366c6edf66d4"
      },
      "execution_count": null,
      "outputs": [
        {
          "output_type": "execute_result",
          "data": {
            "text/plain": [
              "My_Neural_Network(\n",
              "  (LSTM): LSTM(1, 14, batch_first=True)\n",
              "  (OutputLayer): Linear(in_features=14, out_features=1, bias=True)\n",
              ")"
            ]
          },
          "metadata": {},
          "execution_count": 54
        }
      ]
    },
    {
      "cell_type": "code",
      "source": [
        "# Getting the model outputs when we give it the full data\n",
        "model_outputs = my_model(tensor_feats)\n",
        "\n",
        "# Converting the model outputs back to numpy format\n",
        "model_outputs = model_outputs.data.numpy()\n",
        "preds_numpy = tensor_preds.data.numpy()\n",
        "\n",
        "# We need to revert the scaling done earlier to be able to retreive the orignial scale\n",
        "og_pred_x = RememberThisScaler.inverse_transform(model_outputs)\n",
        "og_y = RememberThisScaler.inverse_transform(preds_numpy)\n",
        "\n",
        "plt.axvline(x=train_size, c='g', linestyle='-')\n",
        "plt.axvline(x=train_size+validate_size, c='b', linestyle='-')\n",
        "\n",
        "plt.plot(og_pred_x)\n",
        "plt.plot(og_y)\n",
        "plt.title(\"Apple's Stock Price Prediction with LSTM\")\n",
        "plt.xlabel(\"Time\")\n",
        "plt.ylabel(\"US Dollar\")\n",
        "plt.show()"
      ],
      "metadata": {
        "id": "PGwUIn7GiTrI",
        "outputId": "b90388ee-24da-4d15-d7c0-b549ca2a4728",
        "colab": {
          "base_uri": "https://localhost:8080/",
          "height": 295
        }
      },
      "execution_count": null,
      "outputs": [
        {
          "output_type": "display_data",
          "data": {
            "text/plain": [
              "<Figure size 432x288 with 1 Axes>"
            ],
            "image/png": "[encoded data removed]"
          },
          "metadata": {
            "needs_background": "light"
          }
        }
      ]
    },
    {
      "cell_type": "markdown",
      "source": [
        "Visually our LSTM model is able to model the data very well.\n",
        "\n",
        "The training data (before the green line) has really great fit\n",
        "\n",
        "The validation data (between the green and blue line) has a good predictive ability. Almost correct.\n",
        "\n",
        "The test data(After the Blue Line) has started worsening, but gives us some great prediction."
      ],
      "metadata": {
        "id": "6TuSo2AP8A-7"
      }
    },
    {
      "cell_type": "markdown",
      "source": [
        "But how do we know how well we have performed? We can use evaluation metrics."
      ],
      "metadata": {
        "id": "_C4t6dI18A8F"
      }
    },
    {
      "cell_type": "markdown",
      "source": [
        "<a name=\"cell-id9\"></a>\n",
        "# Evaluating the LSTM"
      ],
      "metadata": {
        "id": "QsfRj7w58oj6"
      }
    },
    {
      "cell_type": "markdown",
      "source": [
        "In time series forecasting or regression, one of the best metrics to validate the fit of a line on data is by looking at ROOT MEAN SQUARE ERROR.\n",
        "\n",
        "Sklearn has a package which helps us calculate this loss easily.\n",
        "[Documentation](https://scikit-learn.org/stable/modules/generated/sklearn.metrics.mean_squared_error.html)"
      ],
      "metadata": {
        "id": "-g8h1ks2-BE9"
      }
    },
    {
      "cell_type": "code",
      "source": [
        "from sklearn.metrics import mean_squared_error\n",
        "\n",
        "overall_MSE = mean_squared_error(og_pred_x, og_y, squared=False)\n",
        "print(\"overall Mean Squared Error (All data): \",overall_MSE)\n"
      ],
      "metadata": {
        "colab": {
          "base_uri": "https://localhost:8080/"
        },
        "id": "jT1vvSidQeQJ",
        "outputId": "f74d7d42-72f3-4d86-b795-c098357dc6ac"
      },
      "execution_count": null,
      "outputs": [
        {
          "output_type": "stream",
          "name": "stdout",
          "text": [
            "overall Mean Squared Error (All data):  2.7933238\n"
          ]
        }
      ]
    },
    {
      "cell_type": "code",
      "source": [
        "# A simple function to calculate and print the MSE\n",
        "def calc_MSE_onData(Train_tensor_feats,Train_tensor_preds,text):\n",
        "  # Getting the model outputs when we give it the full data\n",
        "  model_outputs = my_model(Train_tensor_feats)\n",
        "\n",
        "  # Converting the model outputs back to numpy format\n",
        "  model_outputs = model_outputs.data.numpy()\n",
        "  preds_numpy = Train_tensor_preds.data.numpy()\n",
        "\n",
        "  # We need to revert the scaling done earlier to be able to retreive the orignial scale\n",
        "  og_pred_x = RememberThisScaler.inverse_transform(model_outputs)\n",
        "  og_y = RememberThisScaler.inverse_transform(preds_numpy)\n",
        "\n",
        "\n",
        "  MSE = mean_squared_error(og_pred_x, og_y, squared=False)\n",
        "  print(\"Mean Squared Error (\",text,\" data): \",MSE)\n",
        "\n"
      ],
      "metadata": {
        "id": "wEYvgsFbRBHF"
      },
      "execution_count": null,
      "outputs": []
    },
    {
      "cell_type": "markdown",
      "source": [
        "This LSTM MODEL can now be stored and used to forecase Apple Inc. Stocks in the future!"
      ],
      "metadata": {
        "id": "Byg30hPJHvVr"
      }
    },
    {
      "cell_type": "code",
      "source": [
        "# Pytorch can load and save any model very easily!\n",
        "torch.save(my_model, 'LSTM_on_Apple.pth')\n",
        "my_modelsaved=torch.load('LSTM_on_Apple.pth')"
      ],
      "metadata": {
        "id": "bXWcM4oiIAdr"
      },
      "execution_count": null,
      "outputs": []
    },
    {
      "cell_type": "code",
      "source": [
        "my_modelsaved"
      ],
      "metadata": {
        "colab": {
          "base_uri": "https://localhost:8080/"
        },
        "id": "KVFqC7H_IdeT",
        "outputId": "0eb49610-2686-4817-9199-30ad2f1f3cb6"
      },
      "execution_count": null,
      "outputs": [
        {
          "output_type": "execute_result",
          "data": {
            "text/plain": [
              "My_Neural_Network(\n",
              "  (LSTM): LSTM(1, 14, batch_first=True)\n",
              "  (OutputLayer): Linear(in_features=14, out_features=1, bias=True)\n",
              ")"
            ]
          },
          "metadata": {},
          "execution_count": 59
        }
      ]
    },
    {
      "cell_type": "code",
      "source": [
        "calc_MSE_onData(Train_tensor_feats,Train_tensor_preds,\"train\")"
      ],
      "metadata": {
        "colab": {
          "base_uri": "https://localhost:8080/"
        },
        "id": "CEboNnLF9pdD",
        "outputId": "fad973eb-c8c8-4692-9fd5-2517e0c97b51"
      },
      "execution_count": null,
      "outputs": [
        {
          "output_type": "stream",
          "name": "stdout",
          "text": [
            "Mean Squared Error ( train  data):  1.409545\n"
          ]
        }
      ]
    },
    {
      "cell_type": "code",
      "source": [
        "calc_MSE_onData(Validate_tensor_feats,Validate_tensor_preds,\"validation\")"
      ],
      "metadata": {
        "colab": {
          "base_uri": "https://localhost:8080/"
        },
        "id": "RylxsKGX9tHh",
        "outputId": "9bee3265-7bfb-4cfa-979d-30f1a0471e44"
      },
      "execution_count": null,
      "outputs": [
        {
          "output_type": "stream",
          "name": "stdout",
          "text": [
            "Mean Squared Error ( validation  data):  2.813782\n"
          ]
        }
      ]
    },
    {
      "cell_type": "code",
      "source": [
        "calc_MSE_onData(Test_tensor_feats,Test_tensor_preds,\"test\")"
      ],
      "metadata": {
        "colab": {
          "base_uri": "https://localhost:8080/"
        },
        "id": "DyFzywad9tGV",
        "outputId": "61f9fe1d-d91e-42f4-e61f-e680c1a50856"
      },
      "execution_count": null,
      "outputs": [
        {
          "output_type": "stream",
          "name": "stdout",
          "text": [
            "Mean Squared Error ( test  data):  6.9089713\n"
          ]
        }
      ]
    },
    {
      "cell_type": "markdown",
      "source": [
        "We can clearly see that with time, as the model stop seeing the data. \n",
        "It starts to detoriate its predictive power.\n",
        "The loss increases from Train to Validate to Test Data"
      ],
      "metadata": {
        "id": "f4hqeI2q_I_E"
      }
    },
    {
      "cell_type": "markdown",
      "source": [
        "<a name=\"cell-id10\"></a>\n",
        "# Conclusion\n",
        "\n",
        "We can conclude that LSTM is able to fit the data very well, but is only able to perform well for a smaller future forecasts. This could be because of its squential nature of forecasting.\n",
        "\n",
        "However, LSTM/Deep Learning for Time Series Forecasting has started to become popular and we might see it improve further through research and innovation.\n"
      ],
      "metadata": {
        "id": "Xehbb9DV_bV6"
      }
    },
    {
      "cell_type": "markdown",
      "source": [
        "Thank you for reading all the way through. Hope this was useful.\n",
        "\n",
        "# Future Readings\n",
        "\n",
        "You can look up the links which were suggested throughout this Notebook.\n",
        "Additionally,\n",
        "\n",
        "The following links might be helpful to dwell into LSTM.\n",
        "\n",
        "[Colah's Blog](https://colah.github.io/posts/2015-08-Understanding-LSTMs/)\n",
        "\n",
        "[Youtube : Illustrated Guide to LSTM's and GRU's: A step by step explanation](https://www.youtube.com/watch?v=8HyCNIVRbSU)\n",
        "\n",
        "Starting on Deep Learning?\n",
        "\n",
        "[neuralnetworksanddeeplearning](http://neuralnetworksanddeeplearning.com/)\n",
        "\n",
        "[CMU's Intro to Deep Learning](https://deeplearning.cs.cmu.edu/S22/index.html)\n",
        "\n",
        "[Andrew Ng's Deep Learning Specialization](https://www.coursera.org/specializations/deep-learning)\n",
        "\n",
        "\n",
        "\n",
        "\n",
        "\n"
      ],
      "metadata": {
        "id": "QNIxtxItACWU"
      }
    }
  ]
}